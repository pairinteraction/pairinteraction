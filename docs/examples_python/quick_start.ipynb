{
 "cells": [
  {
   "cell_type": "markdown",
   "metadata": {},
   "source": [
    "# Quick Start"
   ]
  },
  {
   "cell_type": "code",
   "execution_count": 1,
   "metadata": {},
   "outputs": [
    {
     "name": "stdout",
     "output_type": "stream",
     "text": [
      "env: SPDLOG_LEVEL=error\n"
     ]
    }
   ],
   "source": [
    "%env SPDLOG_LEVEL=error\n",
    "\n",
    "import pairinteraction.backend.double as pi"
   ]
  },
  {
   "cell_type": "code",
   "execution_count": 2,
   "metadata": {},
   "outputs": [],
   "source": [
    "if pi.Database.get_global_database() is None:\n",
    "    pi.Database.initialize_global_database(download_missing=True)"
   ]
  },
  {
   "cell_type": "code",
   "execution_count": 3,
   "metadata": {},
   "outputs": [
    {
     "data": {
      "text/plain": [
       "SystemAtomDouble(BasisAtomDouble object with 504 states and 504 kets, is_diagonal=True)"
      ]
     },
     "execution_count": 3,
     "metadata": {},
     "output_type": "execute_result"
    }
   ],
   "source": [
    "ket = pi.KetAtom(\"Rb\", n=60, l=0, m=0.5)\n",
    "basis = pi.BasisAtom(\"Rb\", n=(ket.n - 3, ket.n + 3), l=(0, 5), m=(-5.5, 5.5))\n",
    "system = pi.SystemAtom(basis).set_electric_field([0, 0, 1], unit=\"V/cm\").set_magnetic_field([0, 0, 0.1], unit=\"gauss\")\n",
    "system.diagonalize()"
   ]
  },
  {
   "cell_type": "code",
   "execution_count": 4,
   "metadata": {},
   "outputs": [
    {
     "data": {
      "text/plain": [
       "SystemPairDouble(BasisPairDouble object with 119 states and 119 kets, is_diagonal=True)"
      ]
     },
     "execution_count": 4,
     "metadata": {},
     "output_type": "execute_result"
    }
   ],
   "source": [
    "pair_energy = 2 * ket.get_energy(unit=\"GHz\")\n",
    "pair_basis = pi.BasisPair([system, system], energy=(pair_energy - 2, pair_energy + 2), energy_unit=\"GHz\", m=(1, 1))\n",
    "pair_system = pi.SystemPair(pair_basis).set_distance(5, unit=\"micrometer\")\n",
    "pair_system.diagonalize()"
   ]
  }
 ],
 "metadata": {
  "kernelspec": {
   "display_name": ".venv",
   "language": "python",
   "name": "python3"
  },
  "language_info": {
   "codemirror_mode": {
    "name": "ipython",
    "version": 3
   },
   "file_extension": ".py",
   "mimetype": "text/x-python",
   "name": "python",
   "nbconvert_exporter": "python",
   "pygments_lexer": "ipython3",
   "version": "3.13.0"
  }
 },
 "nbformat": 4,
 "nbformat_minor": 1
}
