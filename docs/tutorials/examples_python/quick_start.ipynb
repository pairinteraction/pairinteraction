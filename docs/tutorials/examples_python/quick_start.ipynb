{
 "cells": [
  {
   "cell_type": "markdown",
   "metadata": {},
   "source": [
    "# Quick Start"
   ]
  },
  {
   "cell_type": "code",
   "execution_count": 1,
   "metadata": {},
   "outputs": [],
   "source": [
    "import pairinteraction.real as pi"
   ]
  },
  {
   "cell_type": "code",
   "execution_count": 2,
   "metadata": {},
   "outputs": [],
   "source": [
    "if pi.Database.get_global_database() is None:\n",
    "    pi.Database.initialize_global_database(download_missing=True)"
   ]
  },
  {
   "cell_type": "code",
   "execution_count": 3,
   "metadata": {},
   "outputs": [
    {
     "data": {
      "text/plain": [
       "SystemAtomReal(BasisAtomReal(|Rb:57,S_1/2,-1/2⟩ ... |Rb:63,H_11/2,11/2⟩), is_diagonal=True)"
      ]
     },
     "execution_count": 3,
     "metadata": {},
     "output_type": "execute_result"
    }
   ],
   "source": [
    "ket = pi.KetAtom(\"Rb\", n=60, l=0, m=0.5)\n",
    "basis = pi.BasisAtom(\"Rb\", n=(ket.n - 3, ket.n + 3), l=(0, 5), m=(-5.5, 5.5))\n",
    "system = pi.SystemAtom(basis).set_electric_field([0, 0, 1], unit=\"V/cm\").set_magnetic_field([0, 0, 0.1], unit=\"gauss\")\n",
    "system.diagonalize()"
   ]
  },
  {
   "cell_type": "code",
   "execution_count": 4,
   "metadata": {},
   "outputs": [
    {
     "data": {
      "text/plain": [
       "SystemPairReal(BasisPairReal(|Rb:57,P_1/2,1/2; Rb:60,H_11/2,1/2⟩ ... |Rb:60,H_11/2,1/2; Rb:57,P_1/2,1/2⟩), is_diagonal=True)"
      ]
     },
     "execution_count": 4,
     "metadata": {},
     "output_type": "execute_result"
    }
   ],
   "source": [
    "pair_energy = 2 * ket.get_energy(unit=\"GHz\")\n",
    "pair_basis = pi.BasisPair([system, system], energy=(pair_energy - 2, pair_energy + 2), energy_unit=\"GHz\", m=(1, 1))\n",
    "pair_system = pi.SystemPair(pair_basis).set_distance(5, unit=\"micrometer\")\n",
    "pair_system.diagonalize()"
   ]
  },
  {
   "cell_type": "code",
   "execution_count": 5,
   "metadata": {},
   "outputs": [
    {
     "name": "stdout",
     "output_type": "stream",
     "text": [
      "[2018021.85015027 2018021.85015029 2018021.85133696 2018021.85133696\n",
      " 2018022.11945782 2018022.11945782 2018022.13851581 2018022.13851581\n",
      " 2018022.17020564 2018022.17020564 2018022.21925668 2018022.21925668\n",
      " 2018022.48458063 2018022.48458063 2018022.51990372 2018022.51990372\n",
      " 2018022.54402908 2018022.54402908 2018022.57142454 2018022.57142454\n",
      " 2018022.64413195 2018022.64413196 2018022.6475403  2018022.64754031\n",
      " 2018022.88231298 2018022.88231331 2018022.88296007 2018022.88296007\n",
      " 2018022.94153199 2018022.94153199 2018023.00922684 2018023.00922688\n",
      " 2018023.04124267 2018023.04124269 2018023.0416651  2018023.0416651\n",
      " 2018023.06813089 2018023.06813089 2018023.16790216 2018023.16790245\n",
      " 2018023.43643426 2018023.43643426 2018023.48297364 2018023.48297364\n",
      " 2018023.64957607 2018023.7090773  2018023.7090773  2018023.9611335\n",
      " 2018023.96950974 2018024.04911236 2018024.0491461  2018024.05027968\n",
      " 2018024.0502801  2018024.14955387 2018024.14955387 2018024.1641684\n",
      " 2018024.19680273 2018024.19680273 2018024.24549777 2018024.24550149\n",
      " 2018024.24685681 2018024.24685701 2018024.3267725  2018024.3283241\n",
      " 2018024.32832551 2018024.34124572 2018024.34130333 2018024.35460703\n",
      " 2018024.35460951 2018024.41922169 2018024.41922169 2018024.46956148\n",
      " 2018024.469587   2018024.5192009  2018024.51920091 2018024.53170914\n",
      " 2018024.53170929 2018024.54320028 2018024.54321136 2018024.57870014\n",
      " 2018024.57870014 2018024.62503194 2018024.62503197 2018024.62735301\n",
      " 2018024.62735301 2018024.65318067 2018024.65319472 2018024.72868514\n",
      " 2018024.73494954 2018024.73499707 2018024.74155604 2018024.80019748\n",
      " 2018024.80020688 2018024.843964   2018024.8460261  2018024.85039438\n",
      " 2018024.85099436 2018024.85961606 2018024.86227786 2018024.92137419\n",
      " 2018024.92137547 2018024.92386017 2018024.92386017 2018024.93773443\n",
      " 2018024.93773444 2018024.93819013 2018024.93819013 2018024.96411177\n",
      " 2018024.97887784 2018025.07127305 2018025.07127317 2018025.24895881\n",
      " 2018025.24895881 2018025.54486224 2018025.54486224 2018025.54569331\n",
      " 2018025.54569331 2018025.8390219  2018025.83902209]\n"
     ]
    }
   ],
   "source": [
    "print(pair_system.get_eigenenergies(unit=\"GHz\"))"
   ]
  }
 ],
 "metadata": {
  "kernelspec": {
   "display_name": ".venv",
   "language": "python",
   "name": "python3"
  },
  "language_info": {
   "codemirror_mode": {
    "name": "ipython",
    "version": 3
   },
   "file_extension": ".py",
   "mimetype": "text/x-python",
   "name": "python",
   "nbconvert_exporter": "python",
   "pygments_lexer": "ipython3",
   "version": "3.10.12"
  }
 },
 "nbformat": 4,
 "nbformat_minor": 1
}
