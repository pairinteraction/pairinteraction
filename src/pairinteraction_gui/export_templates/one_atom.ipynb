{
 "cells": [
  {
   "cell_type": "markdown",
   "metadata": {},
   "source": [
    "# Single Atom Calculation"
   ]
  },
  {
   "cell_type": "code",
   "execution_count": null,
   "metadata": {},
   "outputs": [],
   "source": [
    "# Uncomment the next line if you have ipympl installed and want interactive plots\n",
    "# %matplotlib widget\n",
    "\n",
    "import matplotlib.pyplot as plt\n",
    "import numpy as np\n",
    "\n",
    "import pairinteraction.$PI_DTYPE as pi\n",
    "from pairinteraction.visualization.colormaps import alphamagma"
   ]
  },
  {
   "cell_type": "markdown",
   "metadata": {},
   "source": [
    "## State of Interest"
   ]
  },
  {
   "cell_type": "code",
   "execution_count": null,
   "metadata": {},
   "outputs": [],
   "source": [
    "ket = pi.KetAtom($SPECIES_0$QUANTUM_NUMBERS_0)\n",
    "ket_energy = ket.get_energy(\"GHz\")\n",
    "print(f\"State of interest: {ket}\")"
   ]
  },
  {
   "cell_type": "markdown",
   "metadata": {},
   "source": [
    "## Basis"
   ]
  },
  {
   "cell_type": "code",
   "execution_count": null,
   "metadata": {},
   "outputs": [],
   "source": [
    "basis = pi.BasisAtom(ket.species$QUANTUM_NUMBERS_RESTRICTIONS_0)\n",
    "print(str(basis))\n",
    "print(f\" ⇒ Basis consists of {basis.number_of_kets} kets\")"
   ]
  },
  {
   "cell_type": "markdown",
   "metadata": {},
   "source": [
    "## System"
   ]
  },
  {
   "cell_type": "code",
   "execution_count": null,
   "metadata": {},
   "outputs": [],
   "source": [
    "steps = $STEPS\n",
    "efield_x = np.linspace($EX_MIN, $EX_MAX, steps)\n",
    "efield_y = np.linspace($EY_MIN, $EY_MAX, steps)\n",
    "efield_z = np.linspace($EZ_MIN, $EZ_MAX, steps)\n",
    "bfield_x = np.linspace($BX_MIN, $BX_MAX, steps)\n",
    "bfield_y = np.linspace($BY_MIN, $BY_MAX, steps)\n",
    "bfield_z = np.linspace($BZ_MIN, $BZ_MAX, steps)"
   ]
  },
  {
   "cell_type": "code",
   "execution_count": null,
   "metadata": {},
   "outputs": [],
   "source": [
    "systems = []\n",
    "for i in range(steps):\n",
    "    system = pi.SystemAtom(basis)\n",
    "    system.set_electric_field([efield_x[i], efield_y[i], efield_z[i]], unit=\"V/cm\")\n",
    "    system.set_magnetic_field([bfield_x[i], bfield_y[i], bfield_z[i]], unit=\"G\")\n",
    "    systems.append(system)\n",
    "\n",
    "pi.diagonalize(systems$DIAGONALIZE_KWARGS$DIAGONALIZE_ENERGY_RANGE_KWARGS)"
   ]
  },
  {
   "cell_type": "code",
   "execution_count": null,
   "metadata": {},
   "outputs": [],
   "source": [
    "energies_list = [system.get_eigenenergies(unit=\"GHz\") - ket.get_energy(\"GHz\") for system in systems]\n",
    "overlaps_list = [system.get_eigenbasis().get_overlaps(ket) for system in systems]"
   ]
  },
  {
   "cell_type": "markdown",
   "metadata": {},
   "source": [
    "## Plot"
   ]
  },
  {
   "cell_type": "code",
   "execution_count": null,
   "metadata": {},
   "outputs": [],
   "source": [
    "fig, ax = plt.subplots()\n",
    "\n",
    "ax.set_xlabel($X_LABEL)\n",
    "ax.set_ylabel(\"Energy [GHz]\")\n",
    "\n",
    "try:\n",
    "    ax.plot($X_VARIABLE_NAME, np.array(energies_list), c=\"0.9\", lw=0.25, zorder=-10)\n",
    "except ValueError:  # inhomogeneous shape -> no simple line plot possible\n",
    "    for x, es in zip($X_VARIABLE_NAME, energies_list):\n",
    "        ax.plot([x] * len(es), es, c=\"0.9\", ls=\"None\", marker=\".\", zorder=-10)\n",
    "\n",
    "x_repeated = np.hstack([val * np.ones_like(es) for val, es in zip($X_VARIABLE_NAME, energies_list)])\n",
    "energies_flattend = np.hstack(energies_list)\n",
    "overlaps_flattend = np.hstack(overlaps_list)\n",
    "sorter = np.argsort(overlaps_flattend)\n",
    "\n",
    "scat = ax.scatter(\n",
    "    x_repeated[sorter],\n",
    "    energies_flattend[sorter],\n",
    "    c=overlaps_flattend[sorter],\n",
    "    s=15,\n",
    "    vmin=0,\n",
    "    vmax=1,\n",
    "    cmap=alphamagma\n",
    ")\n",
    "\n",
    "fig.colorbar(scat, ax=ax, label=\"Overlap with state of interest\")\n",
    "\n",
    "plt.show()"
   ]
  }
 ],
 "metadata": {
  "kernelspec": {
   "display_name": ".venv",
   "language": "python",
   "name": "python3"
  },
  "language_info": {
   "codemirror_mode": {
    "name": "ipython",
    "version": 3
   },
   "file_extension": ".py",
   "mimetype": "text/x-python",
   "name": "python",
   "nbconvert_exporter": "python",
   "pygments_lexer": "ipython3",
   "version": "3.13.0"
  }
 },
 "nbformat": 4,
 "nbformat_minor": 2
}
