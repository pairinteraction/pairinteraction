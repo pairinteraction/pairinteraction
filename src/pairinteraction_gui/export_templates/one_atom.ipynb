{
 "cells": [
  {
   "cell_type": "markdown",
   "metadata": {},
   "source": [
    "# Single Atom Calculation"
   ]
  },
  {
   "cell_type": "code",
   "execution_count": null,
   "metadata": {},
   "outputs": [],
   "source": [
    "# Uncomment the next line if you have ipympl installed and want interactive plots\n",
    "# %matplotlib widget\n",
    "\n",
    "import matplotlib.pyplot as plt\n",
    "import numpy as np\n",
    "from matplotlib.colors import Normalize\n",
    "\n",
    "import pairinteraction.$PI_DTYPE as pi\n",
    "from pairinteraction.visualization.colormaps import alphamagma"
   ]
  },
  {
   "cell_type": "markdown",
   "metadata": {},
   "source": [
    "## State of Interest"
   ]
  },
  {
   "cell_type": "code",
   "execution_count": null,
   "metadata": {},
   "outputs": [],
   "source": [
    "ket = pi.KetAtom($SPECIES_0$QUANTUM_NUMBERS_0)\n",
    "ket_energy = ket.get_energy(\"GHz\")\n",
    "print(f\"State of interest: {ket}\")"
   ]
  },
  {
   "cell_type": "markdown",
   "metadata": {},
   "source": [
    "## Basis"
   ]
  },
  {
   "cell_type": "code",
   "execution_count": null,
   "metadata": {},
   "outputs": [],
   "source": [
    "basis = pi.BasisAtom(ket.species$QUANTUM_NUMBERS_RESTRICTIONS_0)\n",
    "print(str(basis))\n",
    "print(f\" ⇒ Basis consists of {basis.number_of_kets} kets\")"
   ]
  },
  {
   "cell_type": "markdown",
   "metadata": {},
   "source": [
    "## System"
   ]
  },
  {
   "cell_type": "code",
   "execution_count": null,
   "metadata": {},
   "outputs": [],
   "source": [
    "steps = $STEPS\n",
    "Ex = np.linspace($EX_MIN, $EX_MAX, steps)\n",
    "Ey = np.linspace($EY_MIN, $EY_MAX, steps)\n",
    "Ez = np.linspace($EZ_MIN, $EZ_MAX, steps)\n",
    "Bx = np.linspace($BX_MIN, $BX_MAX, steps)\n",
    "By = np.linspace($BY_MIN, $BY_MAX, steps)\n",
    "Bz = np.linspace($BZ_MIN, $BZ_MAX, steps)"
   ]
  },
  {
   "cell_type": "code",
   "execution_count": null,
   "metadata": {},
   "outputs": [],
   "source": [
    "systems = []\n",
    "for i in range(steps):\n",
    "    system = pi.SystemAtom(basis)\n",
    "    system.set_electric_field([Ex[i], Ey[i], Ez[i]], unit=\"V/cm\")\n",
    "    system.set_magnetic_field([Bx[i], By[i], Bz[i]], unit=\"G\")\n",
    "    systems.append(system)\n",
    "\n",
    "pi.diagonalize(systems$DIAGONALIZE_KWARGS$DIAGONALIZE_ENERGY_RANGE_KWARGS)"
   ]
  },
  {
   "cell_type": "code",
   "execution_count": null,
   "metadata": {},
   "outputs": [],
   "source": [
    "energies = [system.get_eigenenergies(unit=\"GHz\") - ket.get_energy(\"GHz\") for system in systems]\n",
    "overlaps = [system.get_eigenbasis().get_overlaps(ket) for system in systems]"
   ]
  },
  {
   "cell_type": "markdown",
   "metadata": {},
   "source": [
    "## Plot"
   ]
  },
  {
   "cell_type": "code",
   "execution_count": null,
   "metadata": {},
   "outputs": [],
   "source": [
    "fig, ax = plt.subplots()\n",
    "\n",
    "x_values = $X_VALUES\n",
    "ax.set_xlabel($X_LABEL)\n",
    "ax.set_ylabel(\"Energy [GHz]\")\n",
    "\n",
    "try:\n",
    "    ax.plot(x_values, np.array(energies), c=\"0.9\", lw=0.25, zorder=-10)\n",
    "except ValueError:  # inhomogeneous shape -> no simple line plot possible\n",
    "    for x, es in zip(x_values, energies):\n",
    "        ax.plot([x] * len(es), es, c=\"0.9\", ls=\"None\", marker=\".\", zorder=-10)\n",
    "\n",
    "min_overlap = 0.0001\n",
    "for x, es, os in zip(x_values, energies, overlaps):\n",
    "    inds = np.argwhere(os > min_overlap).flatten()\n",
    "    inds = inds[np.argsort(os[inds])]\n",
    "    if len(inds) > 0:\n",
    "        ax.scatter([x] * len(es[inds]), es[inds], c=os[inds], s=15, vmin=0, vmax=1, cmap=alphamagma)\n",
    "\n",
    "mappable = plt.cm.ScalarMappable(cmap=alphamagma, norm=Normalize(vmin=0, vmax=1))\n",
    "fig.colorbar(mappable, ax=ax, label=\"Overlap with state of interest\")\n",
    "\n",
    "plt.show()"
   ]
  }
 ],
 "metadata": {
  "kernelspec": {
   "display_name": ".venv",
   "language": "python",
   "name": "python3"
  },
  "language_info": {
   "codemirror_mode": {
    "name": "ipython",
    "version": 3
   },
   "file_extension": ".py",
   "mimetype": "text/x-python",
   "name": "python",
   "nbconvert_exporter": "python",
   "pygments_lexer": "ipython3",
   "version": "3.13.0"
  }
 },
 "nbformat": 4,
 "nbformat_minor": 2
}
