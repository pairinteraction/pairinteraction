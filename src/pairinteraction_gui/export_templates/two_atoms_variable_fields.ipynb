{
 "cells": [
  {
   "cell_type": "markdown",
   "metadata": {},
   "source": [
    "# Single Atom Calculation"
   ]
  },
  {
   "cell_type": "code",
   "execution_count": null,
   "metadata": {},
   "outputs": [],
   "source": [
    "# Uncomment the next line if you have ipympl installed and want interactive plots\n",
    "# %matplotlib widget\n",
    "\n",
    "import matplotlib.pyplot as plt\n",
    "import numpy as np\n",
    "from matplotlib.colors import Normalize\n",
    "\n",
    "import pairinteraction.$PI_DTYPE as pi\n",
    "from pairinteraction.visualization.colormaps import alphamagma"
   ]
  },
  {
   "cell_type": "markdown",
   "metadata": {},
   "source": [
    "## Atom bases"
   ]
  },
  {
   "cell_type": "code",
   "execution_count": null,
   "metadata": {},
   "outputs": [],
   "source": [
    "kets = [\n",
    "    pi.KetAtom($SPECIES_0$QUANTUM_NUMBERS_0),\n",
    "    pi.KetAtom($SPECIES_1$QUANTUM_NUMBERS_1),\n",
    "]\n",
    "\n",
    "bases = [\n",
    "    pi.BasisAtom(kets[0].species$QUANTUM_NUMBERS_RESTRICTIONS_0),\n",
    "    pi.BasisAtom(kets[1].species$QUANTUM_NUMBERS_RESTRICTIONS_1),\n",
    "]\n",
    "\n",
    "print(f\"State of interest 1: {kets[0]}\")\n",
    "print(str(bases[0]))\n",
    "print(f\" ⇒ Basis 1 consists of {bases[0].number_of_kets} kets\")\n",
    "\n",
    "print(f\"State of interest 2: {kets[1]}\")\n",
    "print(str(bases[1]))\n",
    "print(f\" ⇒ Basis 2 consists of {bases[1].number_of_kets} kets\")"
   ]
  },
  {
   "cell_type": "markdown",
   "metadata": {},
   "source": [
    "## Systems"
   ]
  },
  {
   "cell_type": "code",
   "execution_count": null,
   "metadata": {},
   "outputs": [],
   "source": [
    "steps = $STEPS\n",
    "Ex = np.linspace($EX_MIN, $EX_MAX, steps)\n",
    "Ey = np.linspace($EY_MIN, $EY_MAX, steps)\n",
    "Ez = np.linspace($EZ_MIN, $EZ_MAX, steps)\n",
    "Bx = np.linspace($BX_MIN, $BX_MAX, steps)\n",
    "By = np.linspace($BY_MIN, $BY_MAX, steps)\n",
    "Bz = np.linspace($BZ_MIN, $BZ_MAX, steps)\n",
    "Distance = np.linspace($DISTANCE_MIN, $DISTANCE_MAX, steps)\n",
    "Angle = np.linspace($ANGLE_MIN, $ANGLE_MAX, steps)"
   ]
  },
  {
   "cell_type": "code",
   "execution_count": null,
   "metadata": {},
   "outputs": [],
   "source": [
    "systems_list = []\n",
    "for step in range(steps):\n",
    "    systems = tuple(\n",
    "        pi.SystemAtom(bases[i])\n",
    "        .set_electric_field([Ex[step], Ey[step], Ez[step]], unit=\"V/cm\")\n",
    "        .set_magnetic_field([Bx[step], By[step], Bz[step]], unit=\"G\")\n",
    "        for i in range(2)\n",
    "    )\n",
    "    systems_list.append(systems)\n",
    "systems_flattened = [system for systems in systems_list for system in systems]\n",
    "pi.diagonalize(systems_flattened$DIAGONALIZE_KWARGS)\n",
    "\n",
    "basis_pair_list = []\n",
    "for step in range(steps):\n",
    "    ket_pair_energy = sum(\n",
    "        systems_list[step][i].get_corresponding_energy(kets[i], \"GHz\") for i in range(2)\n",
    "    )\n",
    "    basis_pair = pi.BasisPair(\n",
    "        systems_list[step],\n",
    "        energy=(ket_pair_energy - $PAIR_ENERGY_DELTA, ket_pair_energy + $PAIR_ENERGY_DELTA),\n",
    "        energy_unit=\"GHz\",\n",
    "    )\n",
    "    basis_pair_list.append(basis_pair)\n",
    "\n",
    "ket_pair_energy_0 = sum(systems_list[-1][i].get_corresponding_energy(kets[i], \"GHz\") for i in range(2))"
   ]
  },
  {
   "cell_type": "code",
   "execution_count": null,
   "metadata": {},
   "outputs": [],
   "source": [
    "system_pair_list = []\n",
    "for step in range(steps):\n",
    "    system = pi.SystemPair(basis_pair_list[step])\n",
    "    system.set_interaction_order($MULTIPOLE_ORDER)\n",
    "    system.set_distance(Distance[step], Angle[step], unit=\"micrometer\")\n",
    "    system_pair_list.append(system)\n",
    "\n",
    "pi.diagonalize(system_pair_list$DIAGONALIZE_KWARGS$DIAGONALIZE_ENERGY_RANGE_KWARGS)"
   ]
  },
  {
   "cell_type": "code",
   "execution_count": null,
   "metadata": {},
   "outputs": [],
   "source": [
    "energies = [system.get_eigenenergies(unit=\"GHz\") - ket_pair_energy_0 for system in system_pair_list]\n",
    "overlaps = [system.get_eigenbasis().get_overlaps([kets[0], kets[1]]) for system in system_pair_list]"
   ]
  },
  {
   "cell_type": "markdown",
   "metadata": {},
   "source": [
    "## Plot"
   ]
  },
  {
   "cell_type": "code",
   "execution_count": null,
   "metadata": {},
   "outputs": [],
   "source": [
    "fig, ax = plt.subplots()\n",
    "\n",
    "x_values = $X_VALUES\n",
    "ax.set_xlabel($X_LABEL)\n",
    "ax.set_ylabel(\"Energy [GHz]\")\n",
    "\n",
    "try:\n",
    "    ax.plot(x_values, np.array(energies), c=\"0.9\", lw=0.25, zorder=-10)\n",
    "except ValueError:  # inhomogeneous shape -> no simple line plot possible\n",
    "    for x, es in zip(x_values, energies):\n",
    "        ax.plot([x] * len(es), es, c=\"0.9\", ls=\"None\", marker=\".\", zorder=-10)\n",
    "\n",
    "min_overlap = 0.0001\n",
    "for x, es, os in zip(x_values, energies, overlaps):\n",
    "    inds = np.argwhere(os > min_overlap).flatten()\n",
    "    inds = inds[np.argsort(os[inds])]\n",
    "    if len(inds) > 0:\n",
    "        ax.scatter([x] * len(es[inds]), es[inds], c=os[inds], s=15, vmin=0, vmax=1, cmap=alphamagma)\n",
    "\n",
    "mappable = plt.cm.ScalarMappable(cmap=alphamagma, norm=Normalize(vmin=0, vmax=1))\n",
    "fig.colorbar(mappable, ax=ax, label=\"Overlap with state of interest\")\n",
    "\n",
    "plt.show()"
   ]
  }
 ],
 "metadata": {
  "kernelspec": {
   "display_name": ".venv",
   "language": "python",
   "name": "python3"
  },
  "language_info": {
   "codemirror_mode": {
    "name": "ipython",
    "version": 3
   },
   "file_extension": ".py",
   "mimetype": "text/x-python",
   "name": "python",
   "nbconvert_exporter": "python",
   "pygments_lexer": "ipython3",
   "version": "3.13.0"
  }
 },
 "nbformat": 4,
 "nbformat_minor": 2
}
