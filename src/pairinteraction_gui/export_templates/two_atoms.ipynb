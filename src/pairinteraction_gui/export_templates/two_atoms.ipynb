{
 "cells": [
  {
   "cell_type": "markdown",
   "metadata": {},
   "source": [
    "# Single Atom Calculation"
   ]
  },
  {
   "cell_type": "code",
   "execution_count": null,
   "metadata": {},
   "outputs": [],
   "source": [
    "# Uncomment the next line if you have ipympl installed and want interactive plots\n",
    "# %matplotlib widget\n",
    "\n",
    "import matplotlib.pyplot as plt\n",
    "import numpy as np\n",
    "from matplotlib.colors import Normalize\n",
    "\n",
    "import pairinteraction.$PI_DTYPE as pi\n",
    "from pairinteraction.visualization.colormaps import alphamagma"
   ]
  },
  {
   "cell_type": "markdown",
   "metadata": {},
   "source": [
    "## Parameters"
   ]
  },
  {
   "cell_type": "code",
   "execution_count": null,
   "metadata": {},
   "outputs": [],
   "source": [
    "steps = $STEPS\n",
    "Distance = np.linspace($DISTANCE_MIN, $DISTANCE_MAX, steps)\n",
    "Angle = np.linspace($ANGLE_MIN, $ANGLE_MAX, steps)"
   ]
  },
  {
   "cell_type": "markdown",
   "metadata": {},
   "source": [
    "## Atom 1"
   ]
  },
  {
   "cell_type": "code",
   "execution_count": null,
   "metadata": {},
   "outputs": [],
   "source": [
    "ket1 = pi.KetAtom($SPECIES_0$QUANTUM_NUMBERS_0)\n",
    "print(f\"State of interest 1: {ket1}\")\n",
    "\n",
    "basis1 = pi.BasisAtom(ket1.species$QUANTUM_NUMBERS_RESTRICTIONS_0)\n",
    "print(str(basis1))\n",
    "print(f\" ⇒ Basis 1 consists of {basis1.number_of_kets} kets\")\n",
    "\n",
    "system1 = pi.SystemAtom(basis1)\n",
    "system1.set_electric_field([$EX_VALUE, $EY_VALUE, $EZ_VALUE], unit=\"V/cm\")\n",
    "system1.set_magnetic_field([$BX_VALUE, $BY_VALUE, $BZ_VALUE], unit=\"G\")"
   ]
  },
  {
   "cell_type": "markdown",
   "metadata": {},
   "source": [
    "## Atom 2"
   ]
  },
  {
   "cell_type": "code",
   "execution_count": null,
   "metadata": {},
   "outputs": [],
   "source": [
    "ket2 = pi.KetAtom($SPECIES_1$QUANTUM_NUMBERS_1)\n",
    "print(f\"State of interest 2: {ket2}\")\n",
    "\n",
    "basis2 = pi.BasisAtom(ket2.species$QUANTUM_NUMBERS_RESTRICTIONS_1)\n",
    "print(str(basis2))\n",
    "print(f\" ⇒ Basis 2 consists of {basis2.number_of_kets} kets\")\n",
    "\n",
    "system2 = pi.SystemAtom(basis2)\n",
    "system2.set_electric_field([$EX_VALUE, $EY_VALUE, $EZ_VALUE], unit=\"V/cm\")\n",
    "system2.set_magnetic_field([$BX_VALUE, $BY_VALUE, $BZ_VALUE], unit=\"G\")"
   ]
  },
  {
   "cell_type": "markdown",
   "metadata": {},
   "source": [
    "## Pair Basis"
   ]
  },
  {
   "cell_type": "code",
   "execution_count": null,
   "metadata": {},
   "outputs": [],
   "source": [
    "pi.diagonalize([system1, system2]$DIAGONALIZE_KWARGS)\n",
    "pair_energy = sum(system.get_corresponding_energy(ket, \"GHz\") for ket, system in zip([ket1, ket2], [system1, system2]))\n",
    "\n",
    "basis_pair = pi.BasisPair(\n",
    "    [system1, system2],\n",
    "    energy=(pair_energy - $PAIR_ENERGY_DELTA, pair_energy + $PAIR_ENERGY_DELTA),\n",
    "    energy_unit=\"GHz\",\n",
    ")\n",
    "print(str(basis_pair))\n",
    "print(f\" ⇒ Basis Pair consists of {basis_pair.number_of_kets} kets\")"
   ]
  },
  {
   "cell_type": "markdown",
   "metadata": {},
   "source": [
    "## Pair System"
   ]
  },
  {
   "cell_type": "code",
   "execution_count": null,
   "metadata": {},
   "outputs": [],
   "source": [
    "system_pair_list = []\n",
    "\n",
    "for i in range(steps):\n",
    "    system_pair = pi.SystemPair(basis_pair)\n",
    "    system_pair.set_distance(Distance[i], Angle[i], unit=\"micrometer\")\n",
    "    system_pair.set_interaction_order($MULTIPOLE_ORDER)\n",
    "    system_pair_list.append(system_pair)\n",
    "\n",
    "pi.diagonalize(system_pair_list$DIAGONALIZE_KWARGS$DIAGONALIZE_ENERGY_RANGE_KWARGS)"
   ]
  },
  {
   "cell_type": "code",
   "execution_count": null,
   "metadata": {},
   "outputs": [],
   "source": [
    "energies = [system.get_eigenenergies(unit=\"GHz\") - pair_energy for system in system_pair_list]\n",
    "overlaps = [system.get_eigenbasis().get_overlaps([ket1, ket2]) for system in system_pair_list]"
   ]
  },
  {
   "cell_type": "markdown",
   "metadata": {},
   "source": [
    "## Plot"
   ]
  },
  {
   "cell_type": "code",
   "execution_count": null,
   "metadata": {},
   "outputs": [],
   "source": [
    "fig, ax = plt.subplots()\n",
    "\n",
    "x_values = $X_VALUES\n",
    "ax.set_xlabel($X_LABEL)\n",
    "ax.set_ylabel(\"Energy [GHz]\")\n",
    "\n",
    "try:\n",
    "    ax.plot(x_values, np.array(energies), c=\"0.9\", lw=0.25, zorder=-10)\n",
    "except ValueError:  # inhomogeneous shape -> no simple line plot possible\n",
    "    for x, es in zip(x_values, energies):\n",
    "        ax.plot([x] * len(es), es, c=\"0.9\", ls=\"None\", marker=\".\", zorder=-10)\n",
    "\n",
    "min_overlap = 0.0001\n",
    "for x, es, os in zip(x_values, energies, overlaps):\n",
    "    inds = np.argwhere(os > min_overlap).flatten()\n",
    "    inds = inds[np.argsort(os[inds])]\n",
    "    if len(inds) > 0:\n",
    "        ax.scatter([x] * len(es[inds]), es[inds], c=os[inds], s=15, vmin=0, vmax=1, cmap=alphamagma)\n",
    "\n",
    "mappable = plt.cm.ScalarMappable(cmap=alphamagma, norm=Normalize(vmin=0, vmax=1))\n",
    "fig.colorbar(mappable, ax=ax, label=\"Overlap with state of interest\")\n",
    "\n",
    "plt.show()"
   ]
  }
 ],
 "metadata": {
  "kernelspec": {
   "display_name": ".venv",
   "language": "python",
   "name": "python3"
  },
  "language_info": {
   "codemirror_mode": {
    "name": "ipython",
    "version": 3
   },
   "file_extension": ".py",
   "mimetype": "text/x-python",
   "name": "python",
   "nbconvert_exporter": "python",
   "pygments_lexer": "ipython3",
   "version": "3.13.0"
  }
 },
 "nbformat": 4,
 "nbformat_minor": 2
}
