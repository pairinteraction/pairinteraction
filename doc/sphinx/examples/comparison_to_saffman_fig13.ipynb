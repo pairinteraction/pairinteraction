{
 "cells": [
  {
   "cell_type": "markdown",
   "metadata": {},
   "source": [
    "# Blockade Interaction in a Magnetic Field"
   ]
  },
  {
   "cell_type": "markdown",
   "metadata": {},
   "source": [
    "The interaction between Rydberg atoms is strongly influenced by external electric and magnetic fields. A small magnetic field for instance lifts the Zeeman degeneracy and thus strengthens the Rydberg blockade, especially if there is a non-zero angle between the interatomic and the quantization axis. This has been discussed in M. Saffman, T. G. Walker, and K. Mølmer, “Quantum information with Rydberg atoms”, [Rev. Mod. Phys. 82, 2313 (2010)](https://dx.doi.org/10.1103/RevModPhys.82.2313) ([Fig. 13](https://journals.aps.org/rmp/article/10.1103/RevModPhys.82.2313/figures/13/medium)).  Here we show how to reproduce this result using pairinteraction. The [Jupyter notebook](https://github.com/pairinteraction/pairinteraction/blob/master/doc/sphinx/examples/comparison_to_saffman_fig13.ipynb) and the final [Python script](https://github.com/pairinteraction/pairinteraction/blob/master/doc/sphinx/examples/comparison_to_saffman_fig13.py) are available on GitHub."
   ]
  },
  {
   "cell_type": "markdown",
   "metadata": {},
   "source": [
    "Ahead of our Python code, we call an IPython magic function to make the output of plotting commands displayed inline within the  notebook."
   ]
  },
  {
   "cell_type": "code",
   "execution_count": 1,
   "metadata": {},
   "outputs": [],
   "source": [
    "%matplotlib inline"
   ]
  },
  {
   "cell_type": "markdown",
   "metadata": {},
   "source": [
    "Our code starts with loading the required modules for the computation. We will make use of pairinteraction's parallel capacities which is why we load the `multiprocessing` module if supported by the operating system. Note that in Windows, the module only works with methods defined outside an IPython notebook. We use the module `pireal` as the Hamiltonian matrix of our system will be purely real-valued (if one considers electric or magnetic fields with a non-zero $y$-value, the Hamiltonian is complex due to the chosen definition of the spherical basis and one has to use `picomplex`)."
   ]
  },
  {
   "cell_type": "code",
   "execution_count": 2,
   "metadata": {},
   "outputs": [],
   "source": [
    "import os\n",
    "import numpy as np\n",
    "import matplotlib.pyplot as plt\n",
    "from functools import partial\n",
    "import sys\n",
    "if sys.platform != \"win32\": from multiprocessing import Pool\n",
    "if sys.platform == \"darwin\": sys.path.append(\"/Applications/pairinteraction.app/Contents/Resources\")\n",
    "elif sys.platform == \"win32\": sys.path.append(\"C:\\Program Files\\pairinteraction\")\n",
    "from libpairinteraction import pireal as pi"
   ]
  },
  {
   "cell_type": "markdown",
   "metadata": {},
   "source": [
    "We begin by defining some constants of our calculation: the spatial separation of the Rydberg atoms and a range of magnetic field we want to iterate over.  The units of the respective quantities are given as comments."
   ]
  },
  {
   "cell_type": "code",
   "execution_count": 3,
   "metadata": {},
   "outputs": [],
   "source": [
    "distance = 10 # µm\n",
    "bfields = np.linspace(0, 20, 200) # Gauss"
   ]
  },
  {
   "cell_type": "markdown",
   "metadata": {},
   "source": [
    "Now, we use pairinteraction's `StateOne` class to define the single-atom state $\\left|43d_{5/2},m_j=1/2\\right\\rangle$ of a Rubudium atom."
   ]
  },
  {
   "cell_type": "code",
   "execution_count": 4,
   "metadata": {},
   "outputs": [],
   "source": [
    "state_one = pi.StateOne(\"Rb\", 43, 2, 2.5, 0.5)"
   ]
  },
  {
   "cell_type": "markdown",
   "metadata": {},
   "source": [
    "To speed up the calculation, pairinteraction caches intermediate results, like matrix elements, for reuse.  Therefore we create a cache directory, dedicated to such files."
   ]
  },
  {
   "cell_type": "code",
   "execution_count": 5,
   "metadata": {},
   "outputs": [],
   "source": [
    "if not os.path.exists(\"./cache\"):\n",
    "    os.makedirs(\"./cache\")"
   ]
  },
  {
   "cell_type": "markdown",
   "metadata": {},
   "source": [
    "Next, we define how to set up the single atom system.  We do this using a function, so we can easily create systems with the magnetic field as a parameter.  Inside the function we create a new system by passing the `state_one` and the cache directory we created to `SystemOne`.\n",
    "\n",
    "To limit the size of the basis, we have to choose cutoffs on states which can couple to `state_one`.  This is done by means of the `restrict...` functions in `SystemOne`.\n",
    "\n",
    "Finally, we set the magnetic field to point in $z$-direction with the magnitude given by the argument."
   ]
  },
  {
   "cell_type": "code",
   "execution_count": 6,
   "metadata": {},
   "outputs": [],
   "source": [
    "def setup_system_one(bfield):\n",
    "    system_one = pi.SystemOne(state_one.element, \"./cache\")\n",
    "    system_one.restrictEnergy(state_one.energy-100, state_one.energy+100)\n",
    "    system_one.restrictN(state_one.n-2, state_one.n+2)\n",
    "    system_one.restrictL(state_one.l-2, state_one.l+2)\n",
    "    system_one.setBfield([0, 0, bfield])\n",
    "    return system_one"
   ]
  },
  {
   "cell_type": "markdown",
   "metadata": {},
   "source": [
    "To investigate the $\\left|43d_{5/2},m_j=1/2;43d_{5/2},m_j=1/2\\right\\rangle$ pair state, we easily combine the same single-atom state twice into a pair state using `StateTwo`."
   ]
  },
  {
   "cell_type": "code",
   "execution_count": 7,
   "metadata": {},
   "outputs": [],
   "source": [
    "state_two = pi.StateTwo(state_one, state_one)"
   ]
  },
  {
   "cell_type": "markdown",
   "metadata": {},
   "source": [
    "Akin to the single atom system, we now define how to create a two atom system.  We want to parametrize this in terms of the single atom system and the interaction angle.\n",
    "\n",
    "We compose a `SystemTwo` from two `system_one` because we are looking at two identical atoms.  Again we have to restrict the energy range for coupling.  Then we proceed to set the distance between the two atoms and the interaction angle.\n",
    "\n",
    "To speed up the calculation, we can tell pairinteraction that this system will have some symmetries."
   ]
  },
  {
   "cell_type": "code",
   "execution_count": 8,
   "metadata": {},
   "outputs": [],
   "source": [
    "def setup_system_two(system_one, angle):\n",
    "    system_two = pi.SystemTwo(system_one, system_one, \"./cache\")\n",
    "    system_two.restrictEnergy(state_two.energy-5, state_two.energy+5)\n",
    "    system_two.setDistance(10)\n",
    "    system_two.setAngle(angle)\n",
    "    if angle == 0: system_two.setConservedMomentaUnderRotation([int(2*state_one.m)])\n",
    "    system_two.setConservedParityUnderInversion(pi.ODD)\n",
    "    system_two.setConservedParityUnderPermutation(pi.ODD)\n",
    "    return system_two"
   ]
  },
  {
   "cell_type": "markdown",
   "metadata": {},
   "source": [
    "Now, we can use the definitions from above to compose our calculation."
   ]
  },
  {
   "cell_type": "code",
   "execution_count": 9,
   "metadata": {},
   "outputs": [],
   "source": [
    "def getEnergies(bfield, angle):\n",
    "    # Set up one atom system\n",
    "    system_one = setup_system_one(bfield)\n",
    "    system_one.diagonalize()\n",
    "\n",
    "    # Calculate Zeeman shift\n",
    "    zeemanshift = 2*system_one.diagonal[system_one.getVectorindex(state_one)] # GHz\n",
    "    \n",
    "    # Set up two atom system\n",
    "    system_two = setup_system_two(system_one,angle)\n",
    "    system_two.diagonalize()\n",
    "    \n",
    "    # Calculate blockade interaction\n",
    "    eigenenergies = (system_two.diagonal-zeemanshift)*1e3 # MHz\n",
    "    overlaps = system_two.getOverlap(state_two)\n",
    "    blockade = 1/np.sqrt(np.sum(overlaps/eigenenergies**2))\n",
    "    \n",
    "    return blockade"
   ]
  },
  {
   "cell_type": "markdown",
   "metadata": {},
   "source": [
    "With a little boiler-plate, we can then calculate and plot the result with `matplotlib`."
   ]
  },
  {
   "cell_type": "code",
   "execution_count": 10,
   "metadata": {
    "scrolled": true
   },
   "outputs": [
    {
     "data": {
      "image/png": "[encoded data removed]",
      "text/plain": [
       "<matplotlib.figure.Figure at 0x10ec3cac8>"
      ]
     },
     "metadata": {},
     "output_type": "display_data"
    }
   ],
   "source": [
    "plt.xlabel(r\"$B$ (Gauss)\")\n",
    "plt.ylabel(r\"Blockade (MHz)\")\n",
    "plt.xlim(-0.4,20.4)\n",
    "plt.ylim(0,0.4)\n",
    "\n",
    "if sys.platform != \"win32\":\n",
    "    with Pool() as pool:\n",
    "        energies1 = pool.map(partial(getEnergies, angle=0), bfields)\n",
    "    with Pool() as pool:\n",
    "        energies2 = pool.map(partial(getEnergies, angle=np.pi/2), bfields)\n",
    "else:\n",
    "    energies1 = list(map(partial(getEnergies, angle=0), bfields))\n",
    "    energies2 = list(map(partial(getEnergies, angle=np.pi/2), bfields))\n",
    "\n",
    "plt.plot(bfields, energies1, 'b-', label=r\"$\\theta = 0$\")\n",
    "plt.plot(bfields, energies2, 'g-', label=r\"$\\theta = \\pi/2$\")\n",
    "plt.legend(loc=2, bbox_to_anchor=(1.02, 1), borderaxespad=0);"
   ]
  }
 ],
 "metadata": {
  "kernelspec": {
   "display_name": "Python 3",
   "language": "python",
   "name": "python3"
  },
  "language_info": {
   "codemirror_mode": {
    "name": "ipython",
    "version": 3
   },
   "file_extension": ".py",
   "mimetype": "text/x-python",
   "name": "python",
   "nbconvert_exporter": "python",
   "pygments_lexer": "ipython3",
   "version": "3.6.3"
  }
 },
 "nbformat": 4,
 "nbformat_minor": 1
}
