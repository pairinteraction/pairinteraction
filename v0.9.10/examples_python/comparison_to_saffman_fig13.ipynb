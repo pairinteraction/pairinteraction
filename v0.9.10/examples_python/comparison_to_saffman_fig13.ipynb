{
 "cells": [
  {
   "attachments": {},
   "cell_type": "markdown",
   "metadata": {},
   "source": [
    "# Blockade Interaction in a Magnetic Field"
   ]
  },
  {
   "attachments": {},
   "cell_type": "markdown",
   "metadata": {},
   "source": [
    "The interaction between Rydberg atoms is strongly influenced by external electric and magnetic fields. A small magnetic field for instance lifts the Zeeman degeneracy and thus strengthens the Rydberg blockade, especially if there is a non-zero angle between the interatomic and the quantization axis. This has been discussed in M. Saffman, T. G. Walker, and K. Mølmer, “Quantum information with Rydberg atoms”, [Rev. Mod. Phys. 82, 2313 (2010)](https://dx.doi.org/10.1103/RevModPhys.82.2313).  Here we show how to reproduce [Fig. 13](https://journals.aps.org/rmp/article/10.1103/RevModPhys.82.2313/figures/13/medium) using pairinteraction. This [Jupyter notebook](https://github.com/pairinteraction/pairinteraction/blob/master/doc/sphinx/examples_python/comparison_to_saffman_fig13.ipynb) and the final [Python script](https://github.com/pairinteraction/pairinteraction/blob/master/doc/sphinx/examples_python/comparison_to_saffman_fig13.py) are available on GitHub."
   ]
  },
  {
   "attachments": {},
   "cell_type": "markdown",
   "metadata": {},
   "source": [
    "As described in the [introduction](introduction.ipynb), we start our code with some preparations. We will make use of pairinteraction's parallel capacities which is why we load the `multiprocessing` module if supported by the operating system (in Windows, the module only works with methods defined outside an IPython notebook)."
   ]
  },
  {
   "cell_type": "code",
   "execution_count": 1,
   "metadata": {},
   "outputs": [],
   "source": [
    "%matplotlib inline\n",
    "\n",
    "# Arrays\n",
    "import numpy as np\n",
    "\n",
    "# Plotting\n",
    "import matplotlib.pyplot as plt\n",
    "\n",
    "# Operating system interfaces\n",
    "import os\n",
    "import sys\n",
    "\n",
    "# Parallel computing\n",
    "if sys.platform != \"win32\":\n",
    "    from multiprocessing import Pool\n",
    "from functools import partial\n",
    "\n",
    "# pairinteraction :-)\n",
    "from pairinteraction import pireal as pi\n",
    "\n",
    "# Create cache for matrix elements\n",
    "if not os.path.exists(\"./cache\"):\n",
    "    os.makedirs(\"./cache\")\n",
    "cache = pi.MatrixElementCache(\"./cache\")"
   ]
  },
  {
   "attachments": {},
   "cell_type": "markdown",
   "metadata": {},
   "source": [
    "We begin by defining some constants of our calculation: the spatial separation of the Rydberg atoms and a range of magnetic field we want to iterate over.  The units of the respective quantities are given as comments."
   ]
  },
  {
   "cell_type": "code",
   "execution_count": 2,
   "metadata": {},
   "outputs": [],
   "source": [
    "distance = 10  # µm\n",
    "bfields = np.linspace(0, 20, 200)  # Gauss"
   ]
  },
  {
   "attachments": {},
   "cell_type": "markdown",
   "metadata": {},
   "source": [
    "Now, we use pairinteraction's `StateOne` class to define the single-atom state $\\left|43d_{5/2},m_j=1/2\\right\\rangle$ of a Rubudium atom."
   ]
  },
  {
   "cell_type": "code",
   "execution_count": 3,
   "metadata": {},
   "outputs": [],
   "source": [
    "state_one = pi.StateOne(\"Rb\", 43, 2, 2.5, 0.5)"
   ]
  },
  {
   "attachments": {},
   "cell_type": "markdown",
   "metadata": {},
   "source": [
    "Next, we define how to set up the single atom system.  We do this using a function, so we can easily create systems with the magnetic field as a parameter.  Inside the function we create a new system by passing the `state_one` and the cache directory we created to `SystemOne`.\n",
    "\n",
    "To limit the size of the basis, we have to choose cutoffs on states which can couple to `state_one`.  This is done by means of the `restrict...` functions in `SystemOne`.\n",
    "\n",
    "Finally, we set the magnetic field to point in $z$-direction with the magnitude given by the argument."
   ]
  },
  {
   "cell_type": "code",
   "execution_count": 4,
   "metadata": {},
   "outputs": [],
   "source": [
    "def setup_system_one(bfield):\n",
    "    system_one = pi.SystemOne(state_one.getSpecies(), cache)\n",
    "    system_one.restrictEnergy(state_one.getEnergy() - 100, state_one.getEnergy() + 100)\n",
    "    system_one.restrictN(state_one.getN() - 2, state_one.getN() + 2)\n",
    "    system_one.restrictL(state_one.getL() - 2, state_one.getL() + 2)\n",
    "    system_one.setBfield([0, 0, bfield])\n",
    "    return system_one"
   ]
  },
  {
   "attachments": {},
   "cell_type": "markdown",
   "metadata": {},
   "source": [
    "To investigate the $\\left|43d_{5/2},m_j=1/2;43d_{5/2},m_j=1/2\\right\\rangle$ pair state, we easily combine the same single-atom state twice into a pair state using `StateTwo`."
   ]
  },
  {
   "cell_type": "code",
   "execution_count": 5,
   "metadata": {},
   "outputs": [],
   "source": [
    "state_two = pi.StateTwo(state_one, state_one)"
   ]
  },
  {
   "attachments": {},
   "cell_type": "markdown",
   "metadata": {},
   "source": [
    "Akin to the single atom system, we now define how to create a two atom system.  We want to parametrize this in terms of the single atom system and the interaction angle.\n",
    "\n",
    "We compose a `SystemTwo` from two `system_one` because we are looking at two identical atoms.  Again we have to restrict the energy range for coupling.  Then we proceed to set the distance between the two atoms and the interaction angle.\n",
    "\n",
    "To speed up the calculation, we can tell pairinteraction that this system will have some symmetries."
   ]
  },
  {
   "cell_type": "code",
   "execution_count": 6,
   "metadata": {},
   "outputs": [],
   "source": [
    "def setup_system_two(system_one, angle):\n",
    "    system_two = pi.SystemTwo(system_one, system_one, cache)\n",
    "    system_two.restrictEnergy(state_two.getEnergy() - 5, state_two.getEnergy() + 5)\n",
    "    system_two.setDistance(10)\n",
    "    system_two.setAngle(angle)\n",
    "    if angle == 0:\n",
    "        system_two.setConservedMomentaUnderRotation([int(2 * state_one.getM())])\n",
    "    system_two.setConservedParityUnderInversion(pi.ODD)\n",
    "    system_two.setConservedParityUnderPermutation(pi.ODD)\n",
    "    return system_two"
   ]
  },
  {
   "attachments": {},
   "cell_type": "markdown",
   "metadata": {},
   "source": [
    "Now, we can use the definitions from above to compose our calculation."
   ]
  },
  {
   "cell_type": "code",
   "execution_count": 7,
   "metadata": {},
   "outputs": [],
   "source": [
    "def getEnergies(bfield, angle):\n",
    "    # Set up one atom system\n",
    "    system_one = setup_system_one(bfield)\n",
    "    system_one.diagonalize(1e-3)\n",
    "\n",
    "    # Calculate Zeeman shift\n",
    "    zeemanshift = (\n",
    "        2\n",
    "        * system_one.getHamiltonian().diagonal()[\n",
    "            system_one.getBasisvectorIndex(state_one)\n",
    "        ]\n",
    "    )  # GHz\n",
    "\n",
    "    # Set up two atom system\n",
    "    system_two = setup_system_two(system_one, angle)\n",
    "    system_two.diagonalize(1e-3)\n",
    "\n",
    "    # Calculate blockade interaction\n",
    "    eigenenergies = (system_two.getHamiltonian().diagonal() - zeemanshift) * 1e3  # MHz\n",
    "    overlaps = system_two.getOverlap(state_two)\n",
    "    blockade = 1 / np.sqrt(np.sum(overlaps / eigenenergies**2))\n",
    "\n",
    "    return blockade"
   ]
  },
  {
   "attachments": {},
   "cell_type": "markdown",
   "metadata": {},
   "source": [
    "With a little boiler-plate, we can then calculate and plot the result with `matplotlib`."
   ]
  },
  {
   "cell_type": "code",
   "execution_count": 8,
   "metadata": {
    "tags": [
     "nbsphinx-thumbnail"
    ]
   },
   "outputs": [
    {
     "data": {
      "image/png": "[encoded data removed]",
      "text/plain": [
       "<matplotlib.figure.Figure at 0x1126bcb70>"
      ]
     },
     "metadata": {},
     "output_type": "display_data"
    }
   ],
   "source": [
    "plt.xlabel(r\"$B$ (Gauss)\")\n",
    "plt.ylabel(r\"Blockade (MHz)\")\n",
    "plt.xlim(-0.4, 20.4)\n",
    "plt.ylim(0, 0.4)\n",
    "\n",
    "if sys.platform != \"win32\":\n",
    "    with Pool() as pool:\n",
    "        energies1 = pool.map(partial(getEnergies, angle=0), bfields)\n",
    "        energies2 = pool.map(partial(getEnergies, angle=np.pi / 2), bfields)\n",
    "else:\n",
    "    energies1 = list(map(partial(getEnergies, angle=0), bfields))\n",
    "    energies2 = list(map(partial(getEnergies, angle=np.pi / 2), bfields))\n",
    "\n",
    "plt.plot(bfields, energies1, \"b-\", label=r\"$\\theta = 0$\")\n",
    "plt.plot(bfields, energies2, \"g-\", label=r\"$\\theta = \\pi/2$\")\n",
    "plt.legend(loc=2, bbox_to_anchor=(1.02, 1), borderaxespad=0);"
   ]
  }
 ],
 "metadata": {
  "kernelspec": {
   "display_name": "Python 3",
   "language": "python",
   "name": "python3"
  },
  "language_info": {
   "codemirror_mode": {
    "name": "ipython",
    "version": 3
   },
   "file_extension": ".py",
   "mimetype": "text/x-python",
   "name": "python",
   "nbconvert_exporter": "python",
   "pygments_lexer": "ipython3",
   "version": "3.10.6"
  },
  "vscode": {
   "interpreter": {
    "hash": "e7370f93d1d0cde622a1f8e1c04877d8463912d04d973331ad4851f04de6915a"
   }
  }
 },
 "nbformat": 4,
 "nbformat_minor": 1
}
